{
  "cells": [
    {
      "cell_type": "markdown",
      "metadata": {
        "id": "view-in-github",
        "colab_type": "text"
      },
      "source": [
        "<a href=\"https://colab.research.google.com/github/Saul-MC/diagnostico-cancer-colorrectal-deep-learning/blob/main/Diagnostico_Cancer_Colorrectal.ipynb\" target=\"_parent\"><img src=\"https://colab.research.google.com/assets/colab-badge.svg\" alt=\"Open In Colab\"/></a>"
      ]
    },
    {
      "cell_type": "code",
      "execution_count": null,
      "metadata": {
        "colab": {
          "base_uri": "https://localhost:8080/"
        },
        "id": "kMXygBwCb8W2",
        "outputId": "ddb5263b-d7a0-4869-ae2b-d470e67329bd"
      },
      "outputs": [
        {
          "output_type": "stream",
          "name": "stdout",
          "text": [
            "Mounted at /content/drive\n",
            "Requirement already satisfied: tensorflow in /usr/local/lib/python3.11/dist-packages (2.18.0)\n",
            "Requirement already satisfied: keras in /usr/local/lib/python3.11/dist-packages (3.8.0)\n",
            "Requirement already satisfied: scikit-learn in /usr/local/lib/python3.11/dist-packages (1.6.1)\n",
            "Requirement already satisfied: matplotlib in /usr/local/lib/python3.11/dist-packages (3.10.0)\n",
            "Requirement already satisfied: seaborn in /usr/local/lib/python3.11/dist-packages (0.13.2)\n",
            "Requirement already satisfied: opencv-python in /usr/local/lib/python3.11/dist-packages (4.11.0.86)\n",
            "Requirement already satisfied: absl-py>=1.0.0 in /usr/local/lib/python3.11/dist-packages (from tensorflow) (1.4.0)\n",
            "Requirement already satisfied: astunparse>=1.6.0 in /usr/local/lib/python3.11/dist-packages (from tensorflow) (1.6.3)\n",
            "Requirement already satisfied: flatbuffers>=24.3.25 in /usr/local/lib/python3.11/dist-packages (from tensorflow) (25.2.10)\n",
            "Requirement already satisfied: gast!=0.5.0,!=0.5.1,!=0.5.2,>=0.2.1 in /usr/local/lib/python3.11/dist-packages (from tensorflow) (0.6.0)\n",
            "Requirement already satisfied: google-pasta>=0.1.1 in /usr/local/lib/python3.11/dist-packages (from tensorflow) (0.2.0)\n",
            "Requirement already satisfied: libclang>=13.0.0 in /usr/local/lib/python3.11/dist-packages (from tensorflow) (18.1.1)\n",
            "Requirement already satisfied: opt-einsum>=2.3.2 in /usr/local/lib/python3.11/dist-packages (from tensorflow) (3.4.0)\n",
            "Requirement already satisfied: packaging in /usr/local/lib/python3.11/dist-packages (from tensorflow) (24.2)\n",
            "Requirement already satisfied: protobuf!=4.21.0,!=4.21.1,!=4.21.2,!=4.21.3,!=4.21.4,!=4.21.5,<6.0.0dev,>=3.20.3 in /usr/local/lib/python3.11/dist-packages (from tensorflow) (5.29.5)\n",
            "Requirement already satisfied: requests<3,>=2.21.0 in /usr/local/lib/python3.11/dist-packages (from tensorflow) (2.32.3)\n",
            "Requirement already satisfied: setuptools in /usr/local/lib/python3.11/dist-packages (from tensorflow) (75.2.0)\n",
            "Requirement already satisfied: six>=1.12.0 in /usr/local/lib/python3.11/dist-packages (from tensorflow) (1.17.0)\n",
            "Requirement already satisfied: termcolor>=1.1.0 in /usr/local/lib/python3.11/dist-packages (from tensorflow) (3.1.0)\n",
            "Requirement already satisfied: typing-extensions>=3.6.6 in /usr/local/lib/python3.11/dist-packages (from tensorflow) (4.14.0)\n",
            "Requirement already satisfied: wrapt>=1.11.0 in /usr/local/lib/python3.11/dist-packages (from tensorflow) (1.17.2)\n",
            "Requirement already satisfied: grpcio<2.0,>=1.24.3 in /usr/local/lib/python3.11/dist-packages (from tensorflow) (1.73.1)\n",
            "Requirement already satisfied: tensorboard<2.19,>=2.18 in /usr/local/lib/python3.11/dist-packages (from tensorflow) (2.18.0)\n",
            "Requirement already satisfied: numpy<2.1.0,>=1.26.0 in /usr/local/lib/python3.11/dist-packages (from tensorflow) (2.0.2)\n",
            "Requirement already satisfied: h5py>=3.11.0 in /usr/local/lib/python3.11/dist-packages (from tensorflow) (3.14.0)\n",
            "Requirement already satisfied: ml-dtypes<0.5.0,>=0.4.0 in /usr/local/lib/python3.11/dist-packages (from tensorflow) (0.4.1)\n",
            "Requirement already satisfied: tensorflow-io-gcs-filesystem>=0.23.1 in /usr/local/lib/python3.11/dist-packages (from tensorflow) (0.37.1)\n",
            "Requirement already satisfied: rich in /usr/local/lib/python3.11/dist-packages (from keras) (13.9.4)\n",
            "Requirement already satisfied: namex in /usr/local/lib/python3.11/dist-packages (from keras) (0.1.0)\n",
            "Requirement already satisfied: optree in /usr/local/lib/python3.11/dist-packages (from keras) (0.16.0)\n",
            "Requirement already satisfied: scipy>=1.6.0 in /usr/local/lib/python3.11/dist-packages (from scikit-learn) (1.15.3)\n",
            "Requirement already satisfied: joblib>=1.2.0 in /usr/local/lib/python3.11/dist-packages (from scikit-learn) (1.5.1)\n",
            "Requirement already satisfied: threadpoolctl>=3.1.0 in /usr/local/lib/python3.11/dist-packages (from scikit-learn) (3.6.0)\n",
            "Requirement already satisfied: contourpy>=1.0.1 in /usr/local/lib/python3.11/dist-packages (from matplotlib) (1.3.2)\n",
            "Requirement already satisfied: cycler>=0.10 in /usr/local/lib/python3.11/dist-packages (from matplotlib) (0.12.1)\n",
            "Requirement already satisfied: fonttools>=4.22.0 in /usr/local/lib/python3.11/dist-packages (from matplotlib) (4.58.4)\n",
            "Requirement already satisfied: kiwisolver>=1.3.1 in /usr/local/lib/python3.11/dist-packages (from matplotlib) (1.4.8)\n",
            "Requirement already satisfied: pillow>=8 in /usr/local/lib/python3.11/dist-packages (from matplotlib) (11.2.1)\n",
            "Requirement already satisfied: pyparsing>=2.3.1 in /usr/local/lib/python3.11/dist-packages (from matplotlib) (3.2.3)\n",
            "Requirement already satisfied: python-dateutil>=2.7 in /usr/local/lib/python3.11/dist-packages (from matplotlib) (2.9.0.post0)\n",
            "Requirement already satisfied: pandas>=1.2 in /usr/local/lib/python3.11/dist-packages (from seaborn) (2.2.2)\n",
            "Requirement already satisfied: wheel<1.0,>=0.23.0 in /usr/local/lib/python3.11/dist-packages (from astunparse>=1.6.0->tensorflow) (0.45.1)\n",
            "Requirement already satisfied: pytz>=2020.1 in /usr/local/lib/python3.11/dist-packages (from pandas>=1.2->seaborn) (2025.2)\n",
            "Requirement already satisfied: tzdata>=2022.7 in /usr/local/lib/python3.11/dist-packages (from pandas>=1.2->seaborn) (2025.2)\n",
            "Requirement already satisfied: charset-normalizer<4,>=2 in /usr/local/lib/python3.11/dist-packages (from requests<3,>=2.21.0->tensorflow) (3.4.2)\n",
            "Requirement already satisfied: idna<4,>=2.5 in /usr/local/lib/python3.11/dist-packages (from requests<3,>=2.21.0->tensorflow) (3.10)\n",
            "Requirement already satisfied: urllib3<3,>=1.21.1 in /usr/local/lib/python3.11/dist-packages (from requests<3,>=2.21.0->tensorflow) (2.4.0)\n",
            "Requirement already satisfied: certifi>=2017.4.17 in /usr/local/lib/python3.11/dist-packages (from requests<3,>=2.21.0->tensorflow) (2025.6.15)\n",
            "Requirement already satisfied: markdown>=2.6.8 in /usr/local/lib/python3.11/dist-packages (from tensorboard<2.19,>=2.18->tensorflow) (3.8.2)\n",
            "Requirement already satisfied: tensorboard-data-server<0.8.0,>=0.7.0 in /usr/local/lib/python3.11/dist-packages (from tensorboard<2.19,>=2.18->tensorflow) (0.7.2)\n",
            "Requirement already satisfied: werkzeug>=1.0.1 in /usr/local/lib/python3.11/dist-packages (from tensorboard<2.19,>=2.18->tensorflow) (3.1.3)\n",
            "Requirement already satisfied: markdown-it-py>=2.2.0 in /usr/local/lib/python3.11/dist-packages (from rich->keras) (3.0.0)\n",
            "Requirement already satisfied: pygments<3.0.0,>=2.13.0 in /usr/local/lib/python3.11/dist-packages (from rich->keras) (2.19.2)\n",
            "Requirement already satisfied: mdurl~=0.1 in /usr/local/lib/python3.11/dist-packages (from markdown-it-py>=2.2.0->rich->keras) (0.1.2)\n",
            "Requirement already satisfied: MarkupSafe>=2.1.1 in /usr/local/lib/python3.11/dist-packages (from werkzeug>=1.0.1->tensorboard<2.19,>=2.18->tensorflow) (3.0.2)\n"
          ]
        }
      ],
      "source": [
        "# 📂 Montar Google Drive\n",
        "from google.colab import drive\n",
        "drive.mount('/content/drive')\n",
        "\n",
        "# 🧰 Instalar dependencias necesarias\n",
        "!pip install tensorflow keras scikit-learn matplotlib seaborn opencv-python"
      ]
    },
    {
      "cell_type": "code",
      "execution_count": null,
      "metadata": {
        "id": "YBUX0_hQeu20"
      },
      "outputs": [],
      "source": [
        "# 📚 Librerías\n",
        "import numpy as np\n",
        "import matplotlib.pyplot as plt\n",
        "import seaborn as sns\n",
        "import os\n",
        "import tensorflow as tf\n",
        "from tensorflow import keras\n",
        "from tensorflow.keras.models import load_model\n",
        "from tensorflow.keras.preprocessing.image import ImageDataGenerator\n",
        "from sklearn.metrics import classification_report, confusion_matrix\n",
        "from time import time\n",
        "import cv2"
      ]
    },
    {
      "cell_type": "code",
      "execution_count": null,
      "metadata": {
        "colab": {
          "base_uri": "https://localhost:8080/"
        },
        "id": "4R9JTUPrey2d",
        "outputId": "f23cc853-0fbd-4d25-ac2b-22a1c8030716"
      },
      "outputs": [
        {
          "output_type": "stream",
          "name": "stdout",
          "text": [
            "Found 5600 images belonging to 14 classes.\n",
            "Found 1400 images belonging to 14 classes.\n",
            "Found 1760 images belonging to 14 classes.\n",
            "Número de clases: 14\n",
            "Clases: ['ASCENDINGCOLON_ADENOCARCINOMA', 'CASIGMOID_COLON', 'CECUM', 'COLONADENOCARCINOMA', 'ESOPHAGITIS', 'HEMORRHOID_suspected_CA_colon', 'ILEOCECAL_GROWTH', 'POLYPS', 'PYLORUS', 'RECTADENOCARCINOMA', 'RECTGROWTH', 'SQUAMUS_CELL_ANAL_CARCINOMA', 'ULCERATIVE_COLITIS', 'Z_LINE']\n"
          ]
        }
      ],
      "source": [
        "# 📁 Rutas en Google Drive\n",
        "train_dir = '/content/drive/MyDrive/Datos/CRCCD_V1/Train'\n",
        "test_dir = '/content/drive/MyDrive/Datos/CRCCD_V1/Test'\n",
        "\n",
        "# 🔄 Generadores con aumento de datos\n",
        "datagen = ImageDataGenerator(\n",
        "    rescale=1./255,\n",
        "    rotation_range=20,\n",
        "    zoom_range=0.2,\n",
        "    horizontal_flip=True,\n",
        "    validation_split=0.2\n",
        ")\n",
        "\n",
        "train_gen = datagen.flow_from_directory(\n",
        "    train_dir,\n",
        "    target_size=(224, 224),\n",
        "    batch_size=32,\n",
        "    class_mode='sparse',\n",
        "    subset='training'\n",
        ")\n",
        "\n",
        "val_gen = datagen.flow_from_directory(\n",
        "    train_dir,\n",
        "    target_size=(224, 224),\n",
        "    batch_size=32,\n",
        "    class_mode='sparse',\n",
        "    subset='validation'\n",
        ")\n",
        "\n",
        "test_gen = ImageDataGenerator(rescale=1./255).flow_from_directory(\n",
        "    test_dir,\n",
        "    target_size=(224, 224),\n",
        "    batch_size=32,\n",
        "    class_mode='sparse',\n",
        "    shuffle=False\n",
        ")\n",
        "\n",
        "# 📌 Número de clases\n",
        "num_classes = train_gen.num_classes\n",
        "print('Número de clases:', num_classes)\n",
        "print('Clases:', list(train_gen.class_indices.keys()))"
      ]
    },
    {
      "cell_type": "code",
      "execution_count": null,
      "metadata": {
        "colab": {
          "base_uri": "https://localhost:8080/"
        },
        "id": "6DbdXfoRvj_R",
        "outputId": "30d5ff9b-bfca-4a84-9f73-070d3250e0be"
      },
      "outputs": [
        {
          "output_type": "stream",
          "name": "stderr",
          "text": [
            "/usr/local/lib/python3.11/dist-packages/keras/src/layers/convolutional/base_conv.py:107: UserWarning: Do not pass an `input_shape`/`input_dim` argument to a layer. When using Sequential models, prefer using an `Input(shape)` object as the first layer in the model instead.\n",
            "  super().__init__(activity_regularizer=activity_regularizer, **kwargs)\n"
          ]
        },
        {
          "output_type": "stream",
          "name": "stdout",
          "text": [
            "Downloading data from https://storage.googleapis.com/tensorflow/keras-applications/resnet/resnet50_weights_tf_dim_ordering_tf_kernels_notop.h5\n",
            "\u001b[1m94765736/94765736\u001b[0m \u001b[32m━━━━━━━━━━━━━━━━━━━━\u001b[0m\u001b[37m\u001b[0m \u001b[1m0s\u001b[0m 0us/step\n",
            "Downloading data from https://storage.googleapis.com/tensorflow/keras-applications/densenet/densenet121_weights_tf_dim_ordering_tf_kernels_notop.h5\n",
            "\u001b[1m29084464/29084464\u001b[0m \u001b[32m━━━━━━━━━━━━━━━━━━━━\u001b[0m\u001b[37m\u001b[0m \u001b[1m0s\u001b[0m 0us/step\n"
          ]
        }
      ],
      "source": [
        "# 🧠 Modelo CNN mejorado\n",
        "def create_cnn_model(input_shape, num_classes):\n",
        "    model = keras.Sequential([\n",
        "        keras.layers.Conv2D(32, (3, 3), activation='relu', input_shape=input_shape),\n",
        "        keras.layers.BatchNormalization(),\n",
        "        keras.layers.MaxPooling2D((2, 2)),\n",
        "        keras.layers.Conv2D(64, (3, 3), activation='relu'),\n",
        "        keras.layers.BatchNormalization(),\n",
        "        keras.layers.MaxPooling2D((2, 2)),\n",
        "        keras.layers.Conv2D(128, (3, 3), activation='relu'),\n",
        "        keras.layers.BatchNormalization(),\n",
        "        keras.layers.GlobalAveragePooling2D(),\n",
        "        keras.layers.Dense(128, activation='relu'),\n",
        "        keras.layers.Dropout(0.5),\n",
        "        keras.layers.Dense(num_classes, activation='softmax')\n",
        "    ])\n",
        "    return model\n",
        "\n",
        "# 🧠 Modelo ResNet50 (con capas finales ajustadas)\n",
        "def create_resnet_model(input_shape, num_classes):\n",
        "    base_model = keras.applications.ResNet50(\n",
        "        include_top=False,\n",
        "        weights='imagenet',\n",
        "        input_shape=input_shape\n",
        "    )\n",
        "    base_model.trainable = False  # Se puede cambiar a True para fine-tuning\n",
        "    inputs = keras.Input(shape=input_shape)\n",
        "    x = base_model(inputs, training=False)\n",
        "    x = keras.layers.GlobalAveragePooling2D()(x)\n",
        "    x = keras.layers.Dense(128, activation='relu')(x)\n",
        "    x = keras.layers.Dropout(0.5)(x)\n",
        "    outputs = keras.layers.Dense(num_classes, activation='softmax')(x)\n",
        "    return keras.Model(inputs, outputs)\n",
        "\n",
        "# 🧠 Modelo DenseNet121 (ajustado igual que ResNet50)\n",
        "def create_densenet_model(input_shape, num_classes):\n",
        "    base_model = keras.applications.DenseNet121(\n",
        "        include_top=False,\n",
        "        weights='imagenet',\n",
        "        input_shape=input_shape\n",
        "    )\n",
        "    base_model.trainable = False\n",
        "    inputs = keras.Input(shape=input_shape)\n",
        "    x = base_model(inputs, training=False)\n",
        "    x = keras.layers.GlobalAveragePooling2D()(x)\n",
        "    x = keras.layers.Dense(128, activation='relu')(x)\n",
        "    x = keras.layers.Dropout(0.5)(x)\n",
        "    outputs = keras.layers.Dense(num_classes, activation='softmax')(x)\n",
        "    return keras.Model(inputs, outputs)\n",
        "\n",
        "# 📦 Diccionario de modelos\n",
        "models = {\n",
        "    'CNN Simple': create_cnn_model((224, 224, 3), num_classes),\n",
        "    'ResNet50': create_resnet_model((224, 224, 3), num_classes),\n",
        "    'DenseNet121': create_densenet_model((224, 224, 3), num_classes)\n",
        "}"
      ]
    },
    {
      "cell_type": "code",
      "execution_count": null,
      "metadata": {
        "colab": {
          "base_uri": "https://localhost:8080/"
        },
        "collapsed": true,
        "id": "Tq_xIYjovpTW",
        "outputId": "be778e38-f41d-4d2a-a5ae-f915f87faafd"
      },
      "outputs": [
        {
          "output_type": "stream",
          "name": "stdout",
          "text": [
            "\n",
            "=== Entrenando CNN Simple ===\n"
          ]
        },
        {
          "output_type": "stream",
          "name": "stderr",
          "text": [
            "/usr/local/lib/python3.11/dist-packages/keras/src/trainers/data_adapters/py_dataset_adapter.py:121: UserWarning: Your `PyDataset` class should call `super().__init__(**kwargs)` in its constructor. `**kwargs` can include `workers`, `use_multiprocessing`, `max_queue_size`. Do not pass these arguments to `fit()`, as they will be ignored.\n",
            "  self._warn_if_super_not_called()\n"
          ]
        },
        {
          "output_type": "stream",
          "name": "stdout",
          "text": [
            "Epoch 1/30\n",
            "\u001b[1m175/175\u001b[0m \u001b[32m━━━━━━━━━━━━━━━━━━━━\u001b[0m\u001b[37m\u001b[0m \u001b[1m2733s\u001b[0m 16s/step - accuracy: 0.2980 - loss: 2.0627 - val_accuracy: 0.0650 - val_loss: 3.8552\n",
            "Epoch 2/30\n",
            "\u001b[1m175/175\u001b[0m \u001b[32m━━━━━━━━━━━━━━━━━━━━\u001b[0m\u001b[37m\u001b[0m \u001b[1m132s\u001b[0m 755ms/step - accuracy: 0.4791 - loss: 1.4285 - val_accuracy: 0.0943 - val_loss: 3.5003\n",
            "Epoch 3/30\n",
            "\u001b[1m175/175\u001b[0m \u001b[32m━━━━━━━━━━━━━━━━━━━━\u001b[0m\u001b[37m\u001b[0m \u001b[1m131s\u001b[0m 749ms/step - accuracy: 0.5300 - loss: 1.2595 - val_accuracy: 0.2457 - val_loss: 2.4646\n",
            "Epoch 4/30\n",
            "\u001b[1m175/175\u001b[0m \u001b[32m━━━━━━━━━━━━━━━━━━━━\u001b[0m\u001b[37m\u001b[0m \u001b[1m134s\u001b[0m 764ms/step - accuracy: 0.5740 - loss: 1.1354 - val_accuracy: 0.4400 - val_loss: 1.5498\n",
            "Epoch 5/30\n",
            "\u001b[1m175/175\u001b[0m \u001b[32m━━━━━━━━━━━━━━━━━━━━\u001b[0m\u001b[37m\u001b[0m \u001b[1m136s\u001b[0m 778ms/step - accuracy: 0.5717 - loss: 1.1073 - val_accuracy: 0.2607 - val_loss: 3.2928\n",
            "Epoch 6/30\n",
            "\u001b[1m175/175\u001b[0m \u001b[32m━━━━━━━━━━━━━━━━━━━━\u001b[0m\u001b[37m\u001b[0m \u001b[1m134s\u001b[0m 765ms/step - accuracy: 0.6109 - loss: 1.0310 - val_accuracy: 0.3643 - val_loss: 2.0407\n",
            "Epoch 7/30\n",
            "\u001b[1m175/175\u001b[0m \u001b[32m━━━━━━━━━━━━━━━━━━━━\u001b[0m\u001b[37m\u001b[0m \u001b[1m133s\u001b[0m 760ms/step - accuracy: 0.6189 - loss: 0.9885 - val_accuracy: 0.3600 - val_loss: 2.6156\n",
            "Epoch 8/30\n",
            "\u001b[1m175/175\u001b[0m \u001b[32m━━━━━━━━━━━━━━━━━━━━\u001b[0m\u001b[37m\u001b[0m \u001b[1m132s\u001b[0m 757ms/step - accuracy: 0.6306 - loss: 0.9623 - val_accuracy: 0.3650 - val_loss: 2.0374\n",
            "Epoch 9/30\n",
            "\u001b[1m175/175\u001b[0m \u001b[32m━━━━━━━━━━━━━━━━━━━━\u001b[0m\u001b[37m\u001b[0m \u001b[1m132s\u001b[0m 753ms/step - accuracy: 0.6521 - loss: 0.8931 - val_accuracy: 0.2786 - val_loss: 3.5239\n",
            "\u001b[1m55/55\u001b[0m \u001b[32m━━━━━━━━━━━━━━━━━━━━\u001b[0m\u001b[37m\u001b[0m \u001b[1m14s\u001b[0m 251ms/step\n"
          ]
        },
        {
          "output_type": "stream",
          "name": "stderr",
          "text": [
            "WARNING:absl:You are saving your model as an HDF5 file via `model.save()` or `keras.saving.save_model(model)`. This file format is considered legacy. We recommend using instead the native Keras format, e.g. `model.save('my_model.keras')` or `keras.saving.save_model(model, 'my_model.keras')`. \n"
          ]
        },
        {
          "output_type": "stream",
          "name": "stdout",
          "text": [
            "✅ Modelo CNN Simple guardado en: /content/drive/MyDrive/Datos/models/CNN_Simple.h5\n",
            "🧾 History guardado en: /content/drive/MyDrive/Datos/history/CNN_Simple_history.npy\n",
            "\n",
            "=== Entrenando ResNet50 ===\n",
            "Epoch 1/30\n",
            "\u001b[1m175/175\u001b[0m \u001b[32m━━━━━━━━━━━━━━━━━━━━\u001b[0m\u001b[37m\u001b[0m \u001b[1m164s\u001b[0m 860ms/step - accuracy: 0.0812 - loss: 2.7435 - val_accuracy: 0.0836 - val_loss: 2.6303\n",
            "Epoch 2/30\n",
            "\u001b[1m175/175\u001b[0m \u001b[32m━━━━━━━━━━━━━━━━━━━━\u001b[0m\u001b[37m\u001b[0m \u001b[1m135s\u001b[0m 773ms/step - accuracy: 0.0768 - loss: 2.6309 - val_accuracy: 0.1286 - val_loss: 2.6159\n",
            "Epoch 3/30\n",
            "\u001b[1m175/175\u001b[0m \u001b[32m━━━━━━━━━━━━━━━━━━━━\u001b[0m\u001b[37m\u001b[0m \u001b[1m135s\u001b[0m 773ms/step - accuracy: 0.0978 - loss: 2.6084 - val_accuracy: 0.1336 - val_loss: 2.5963\n",
            "Epoch 4/30\n",
            "\u001b[1m175/175\u001b[0m \u001b[32m━━━━━━━━━━━━━━━━━━━━\u001b[0m\u001b[37m\u001b[0m \u001b[1m141s\u001b[0m 769ms/step - accuracy: 0.1007 - loss: 2.5944 - val_accuracy: 0.1336 - val_loss: 2.5809\n",
            "Epoch 5/30\n",
            "\u001b[1m175/175\u001b[0m \u001b[32m━━━━━━━━━━━━━━━━━━━━\u001b[0m\u001b[37m\u001b[0m \u001b[1m134s\u001b[0m 768ms/step - accuracy: 0.1026 - loss: 2.5882 - val_accuracy: 0.1343 - val_loss: 2.5691\n",
            "Epoch 6/30\n",
            "\u001b[1m175/175\u001b[0m \u001b[32m━━━━━━━━━━━━━━━━━━━━\u001b[0m\u001b[37m\u001b[0m \u001b[1m135s\u001b[0m 772ms/step - accuracy: 0.0966 - loss: 2.5838 - val_accuracy: 0.1279 - val_loss: 2.5662\n",
            "Epoch 7/30\n",
            "\u001b[1m175/175\u001b[0m \u001b[32m━━━━━━━━━━━━━━━━━━━━\u001b[0m\u001b[37m\u001b[0m \u001b[1m149s\u001b[0m 852ms/step - accuracy: 0.1055 - loss: 2.5785 - val_accuracy: 0.1279 - val_loss: 2.5459\n",
            "Epoch 8/30\n",
            "\u001b[1m175/175\u001b[0m \u001b[32m━━━━━━━━━━━━━━━━━━━━\u001b[0m\u001b[37m\u001b[0m \u001b[1m134s\u001b[0m 769ms/step - accuracy: 0.1068 - loss: 2.5681 - val_accuracy: 0.1293 - val_loss: 2.5316\n",
            "Epoch 9/30\n",
            "\u001b[1m175/175\u001b[0m \u001b[32m━━━━━━━━━━━━━━━━━━━━\u001b[0m\u001b[37m\u001b[0m \u001b[1m134s\u001b[0m 767ms/step - accuracy: 0.1046 - loss: 2.5729 - val_accuracy: 0.1350 - val_loss: 2.5212\n",
            "Epoch 10/30\n",
            "\u001b[1m175/175\u001b[0m \u001b[32m━━━━━━━━━━━━━━━━━━━━\u001b[0m\u001b[37m\u001b[0m \u001b[1m134s\u001b[0m 768ms/step - accuracy: 0.0984 - loss: 2.5655 - val_accuracy: 0.1450 - val_loss: 2.5276\n",
            "Epoch 11/30\n",
            "\u001b[1m175/175\u001b[0m \u001b[32m━━━━━━━━━━━━━━━━━━━━\u001b[0m\u001b[37m\u001b[0m \u001b[1m134s\u001b[0m 765ms/step - accuracy: 0.1022 - loss: 2.5573 - val_accuracy: 0.1400 - val_loss: 2.5220\n",
            "Epoch 12/30\n",
            "\u001b[1m175/175\u001b[0m \u001b[32m━━━━━━━━━━━━━━━━━━━━\u001b[0m\u001b[37m\u001b[0m \u001b[1m134s\u001b[0m 766ms/step - accuracy: 0.1069 - loss: 2.5682 - val_accuracy: 0.1443 - val_loss: 2.5119\n",
            "Epoch 13/30\n",
            "\u001b[1m175/175\u001b[0m \u001b[32m━━━━━━━━━━━━━━━━━━━━\u001b[0m\u001b[37m\u001b[0m \u001b[1m135s\u001b[0m 772ms/step - accuracy: 0.1027 - loss: 2.5619 - val_accuracy: 0.1507 - val_loss: 2.5029\n",
            "Epoch 14/30\n",
            "\u001b[1m175/175\u001b[0m \u001b[32m━━━━━━━━━━━━━━━━━━━━\u001b[0m\u001b[37m\u001b[0m \u001b[1m131s\u001b[0m 748ms/step - accuracy: 0.1084 - loss: 2.5535 - val_accuracy: 0.1343 - val_loss: 2.4906\n",
            "Epoch 15/30\n",
            "\u001b[1m175/175\u001b[0m \u001b[32m━━━━━━━━━━━━━━━━━━━━\u001b[0m\u001b[37m\u001b[0m \u001b[1m132s\u001b[0m 752ms/step - accuracy: 0.1169 - loss: 2.5438 - val_accuracy: 0.1707 - val_loss: 2.4937\n",
            "Epoch 16/30\n",
            "\u001b[1m175/175\u001b[0m \u001b[32m━━━━━━━━━━━━━━━━━━━━\u001b[0m\u001b[37m\u001b[0m \u001b[1m130s\u001b[0m 746ms/step - accuracy: 0.1183 - loss: 2.5366 - val_accuracy: 0.1650 - val_loss: 2.4723\n",
            "Epoch 17/30\n",
            "\u001b[1m175/175\u001b[0m \u001b[32m━━━━━━━━━━━━━━━━━━━━\u001b[0m\u001b[37m\u001b[0m \u001b[1m131s\u001b[0m 748ms/step - accuracy: 0.1181 - loss: 2.5304 - val_accuracy: 0.1714 - val_loss: 2.4676\n",
            "Epoch 18/30\n",
            "\u001b[1m175/175\u001b[0m \u001b[32m━━━━━━━━━━━━━━━━━━━━\u001b[0m\u001b[37m\u001b[0m \u001b[1m141s\u001b[0m 738ms/step - accuracy: 0.0961 - loss: 2.5428 - val_accuracy: 0.1714 - val_loss: 2.4584\n",
            "Epoch 19/30\n",
            "\u001b[1m175/175\u001b[0m \u001b[32m━━━━━━━━━━━━━━━━━━━━\u001b[0m\u001b[37m\u001b[0m \u001b[1m132s\u001b[0m 754ms/step - accuracy: 0.1104 - loss: 2.5210 - val_accuracy: 0.1686 - val_loss: 2.4529\n",
            "Epoch 20/30\n",
            "\u001b[1m175/175\u001b[0m \u001b[32m━━━━━━━━━━━━━━━━━━━━\u001b[0m\u001b[37m\u001b[0m \u001b[1m131s\u001b[0m 750ms/step - accuracy: 0.1051 - loss: 2.5060 - val_accuracy: 0.1750 - val_loss: 2.4476\n",
            "Epoch 21/30\n",
            "\u001b[1m175/175\u001b[0m \u001b[32m━━━━━━━━━━━━━━━━━━━━\u001b[0m\u001b[37m\u001b[0m \u001b[1m132s\u001b[0m 752ms/step - accuracy: 0.1041 - loss: 2.5113 - val_accuracy: 0.1693 - val_loss: 2.4894\n",
            "Epoch 22/30\n",
            "\u001b[1m175/175\u001b[0m \u001b[32m━━━━━━━━━━━━━━━━━━━━\u001b[0m\u001b[37m\u001b[0m \u001b[1m131s\u001b[0m 749ms/step - accuracy: 0.1020 - loss: 2.5048 - val_accuracy: 0.1471 - val_loss: 2.4756\n",
            "Epoch 23/30\n",
            "\u001b[1m175/175\u001b[0m \u001b[32m━━━━━━━━━━━━━━━━━━━━\u001b[0m\u001b[37m\u001b[0m \u001b[1m132s\u001b[0m 753ms/step - accuracy: 0.1089 - loss: 2.5046 - val_accuracy: 0.1300 - val_loss: 2.4421\n",
            "Epoch 24/30\n",
            "\u001b[1m175/175\u001b[0m \u001b[32m━━━━━━━━━━━━━━━━━━━━\u001b[0m\u001b[37m\u001b[0m \u001b[1m146s\u001b[0m 836ms/step - accuracy: 0.1151 - loss: 2.4940 - val_accuracy: 0.1614 - val_loss: 2.4236\n",
            "Epoch 25/30\n",
            "\u001b[1m175/175\u001b[0m \u001b[32m━━━━━━━━━━━━━━━━━━━━\u001b[0m\u001b[37m\u001b[0m \u001b[1m131s\u001b[0m 747ms/step - accuracy: 0.1112 - loss: 2.4964 - val_accuracy: 0.1893 - val_loss: 2.4212\n",
            "Epoch 26/30\n",
            "\u001b[1m175/175\u001b[0m \u001b[32m━━━━━━━━━━━━━━━━━━━━\u001b[0m\u001b[37m\u001b[0m \u001b[1m131s\u001b[0m 748ms/step - accuracy: 0.1182 - loss: 2.4891 - val_accuracy: 0.1707 - val_loss: 2.4280\n",
            "Epoch 27/30\n",
            "\u001b[1m175/175\u001b[0m \u001b[32m━━━━━━━━━━━━━━━━━━━━\u001b[0m\u001b[37m\u001b[0m \u001b[1m143s\u001b[0m 750ms/step - accuracy: 0.1051 - loss: 2.4874 - val_accuracy: 0.1843 - val_loss: 2.4385\n",
            "Epoch 28/30\n",
            "\u001b[1m175/175\u001b[0m \u001b[32m━━━━━━━━━━━━━━━━━━━━\u001b[0m\u001b[37m\u001b[0m \u001b[1m132s\u001b[0m 753ms/step - accuracy: 0.1135 - loss: 2.5003 - val_accuracy: 0.1779 - val_loss: 2.4080\n",
            "Epoch 29/30\n",
            "\u001b[1m175/175\u001b[0m \u001b[32m━━━━━━━━━━━━━━━━━━━━\u001b[0m\u001b[37m\u001b[0m \u001b[1m134s\u001b[0m 766ms/step - accuracy: 0.1137 - loss: 2.4865 - val_accuracy: 0.1764 - val_loss: 2.4041\n",
            "Epoch 30/30\n",
            "\u001b[1m175/175\u001b[0m \u001b[32m━━━━━━━━━━━━━━━━━━━━\u001b[0m\u001b[37m\u001b[0m \u001b[1m132s\u001b[0m 755ms/step - accuracy: 0.1027 - loss: 2.4881 - val_accuracy: 0.1736 - val_loss: 2.4127\n",
            "\u001b[1m55/55\u001b[0m \u001b[32m━━━━━━━━━━━━━━━━━━━━\u001b[0m\u001b[37m\u001b[0m \u001b[1m19s\u001b[0m 268ms/step\n"
          ]
        },
        {
          "output_type": "stream",
          "name": "stderr",
          "text": [
            "/usr/local/lib/python3.11/dist-packages/sklearn/metrics/_classification.py:1565: UndefinedMetricWarning: Precision is ill-defined and being set to 0.0 in labels with no predicted samples. Use `zero_division` parameter to control this behavior.\n",
            "  _warn_prf(average, modifier, f\"{metric.capitalize()} is\", len(result))\n",
            "/usr/local/lib/python3.11/dist-packages/sklearn/metrics/_classification.py:1565: UndefinedMetricWarning: Precision is ill-defined and being set to 0.0 in labels with no predicted samples. Use `zero_division` parameter to control this behavior.\n",
            "  _warn_prf(average, modifier, f\"{metric.capitalize()} is\", len(result))\n",
            "/usr/local/lib/python3.11/dist-packages/sklearn/metrics/_classification.py:1565: UndefinedMetricWarning: Precision is ill-defined and being set to 0.0 in labels with no predicted samples. Use `zero_division` parameter to control this behavior.\n",
            "  _warn_prf(average, modifier, f\"{metric.capitalize()} is\", len(result))\n",
            "WARNING:absl:You are saving your model as an HDF5 file via `model.save()` or `keras.saving.save_model(model)`. This file format is considered legacy. We recommend using instead the native Keras format, e.g. `model.save('my_model.keras')` or `keras.saving.save_model(model, 'my_model.keras')`. \n"
          ]
        },
        {
          "output_type": "stream",
          "name": "stdout",
          "text": [
            "✅ Modelo ResNet50 guardado en: /content/drive/MyDrive/Datos/models/ResNet50.h5\n",
            "🧾 History guardado en: /content/drive/MyDrive/Datos/history/ResNet50_history.npy\n",
            "\n",
            "=== Entrenando DenseNet121 ===\n",
            "Epoch 1/30\n",
            "\u001b[1m175/175\u001b[0m \u001b[32m━━━━━━━━━━━━━━━━━━━━\u001b[0m\u001b[37m\u001b[0m \u001b[1m218s\u001b[0m 1s/step - accuracy: 0.2651 - loss: 2.2251 - val_accuracy: 0.5743 - val_loss: 1.2376\n",
            "Epoch 2/30\n",
            "\u001b[1m175/175\u001b[0m \u001b[32m━━━━━━━━━━━━━━━━━━━━\u001b[0m\u001b[37m\u001b[0m \u001b[1m134s\u001b[0m 768ms/step - accuracy: 0.5580 - loss: 1.2698 - val_accuracy: 0.6021 - val_loss: 1.0897\n",
            "Epoch 3/30\n",
            "\u001b[1m175/175\u001b[0m \u001b[32m━━━━━━━━━━━━━━━━━━━━\u001b[0m\u001b[37m\u001b[0m \u001b[1m133s\u001b[0m 763ms/step - accuracy: 0.6373 - loss: 1.0210 - val_accuracy: 0.6171 - val_loss: 1.0350\n",
            "Epoch 4/30\n",
            "\u001b[1m175/175\u001b[0m \u001b[32m━━━━━━━━━━━━━━━━━━━━\u001b[0m\u001b[37m\u001b[0m \u001b[1m133s\u001b[0m 762ms/step - accuracy: 0.6848 - loss: 0.8906 - val_accuracy: 0.6543 - val_loss: 0.9641\n",
            "Epoch 5/30\n",
            "\u001b[1m175/175\u001b[0m \u001b[32m━━━━━━━━━━━━━━━━━━━━\u001b[0m\u001b[37m\u001b[0m \u001b[1m133s\u001b[0m 762ms/step - accuracy: 0.7176 - loss: 0.7752 - val_accuracy: 0.6407 - val_loss: 0.9958\n",
            "Epoch 6/30\n",
            "\u001b[1m175/175\u001b[0m \u001b[32m━━━━━━━━━━━━━━━━━━━━\u001b[0m\u001b[37m\u001b[0m \u001b[1m133s\u001b[0m 762ms/step - accuracy: 0.7236 - loss: 0.7610 - val_accuracy: 0.6564 - val_loss: 0.9891\n",
            "Epoch 7/30\n",
            "\u001b[1m175/175\u001b[0m \u001b[32m━━━━━━━━━━━━━━━━━━━━\u001b[0m\u001b[37m\u001b[0m \u001b[1m133s\u001b[0m 763ms/step - accuracy: 0.7512 - loss: 0.6793 - val_accuracy: 0.6593 - val_loss: 1.0059\n",
            "Epoch 8/30\n",
            "\u001b[1m175/175\u001b[0m \u001b[32m━━━━━━━━━━━━━━━━━━━━\u001b[0m\u001b[37m\u001b[0m \u001b[1m133s\u001b[0m 763ms/step - accuracy: 0.7824 - loss: 0.6189 - val_accuracy: 0.6564 - val_loss: 1.0217\n",
            "Epoch 9/30\n",
            "\u001b[1m175/175\u001b[0m \u001b[32m━━━━━━━━━━━━━━━━━━━━\u001b[0m\u001b[37m\u001b[0m \u001b[1m134s\u001b[0m 769ms/step - accuracy: 0.7884 - loss: 0.5839 - val_accuracy: 0.6593 - val_loss: 0.9657\n",
            "\u001b[1m55/55\u001b[0m \u001b[32m━━━━━━━━━━━━━━━━━━━━\u001b[0m\u001b[37m\u001b[0m \u001b[1m26s\u001b[0m 263ms/step\n"
          ]
        },
        {
          "output_type": "stream",
          "name": "stderr",
          "text": [
            "WARNING:absl:You are saving your model as an HDF5 file via `model.save()` or `keras.saving.save_model(model)`. This file format is considered legacy. We recommend using instead the native Keras format, e.g. `model.save('my_model.keras')` or `keras.saving.save_model(model, 'my_model.keras')`. \n"
          ]
        },
        {
          "output_type": "stream",
          "name": "stdout",
          "text": [
            "✅ Modelo DenseNet121 guardado en: /content/drive/MyDrive/Datos/models/DenseNet121.h5\n",
            "🧾 History guardado en: /content/drive/MyDrive/Datos/history/DenseNet121_history.npy\n",
            "📦 Diccionario 'results' serializado en: models/results.pkl\n"
          ]
        }
      ],
      "source": [
        "import os\n",
        "import numpy as np\n",
        "import pickle\n",
        "\n",
        "results = {}\n",
        "model_save_dir = '/content/drive/MyDrive/Datos/models'\n",
        "history_save_dir = '/content/drive/MyDrive/Datos/history'\n",
        "os.makedirs(model_save_dir, exist_ok=True)\n",
        "os.makedirs(history_save_dir, exist_ok=True)\n",
        "\n",
        "for name, model in models.items():\n",
        "    print(f'\\n=== Entrenando {name} ===')\n",
        "    start_time = time()\n",
        "\n",
        "    model.compile(\n",
        "        optimizer='adam',\n",
        "        loss='sparse_categorical_crossentropy',\n",
        "        metrics=['accuracy']\n",
        "    )\n",
        "\n",
        "    history = model.fit(\n",
        "        train_gen,\n",
        "        validation_data=val_gen,\n",
        "        epochs=30,\n",
        "        callbacks=[\n",
        "            keras.callbacks.EarlyStopping(patience=5, restore_best_weights=True)\n",
        "        ]\n",
        "    )\n",
        "\n",
        "    # Evaluación\n",
        "    test_loss, test_acc = model.evaluate(test_gen, verbose=0)\n",
        "    y_pred = np.argmax(model.predict(test_gen), axis=1)\n",
        "    y_true = test_gen.classes\n",
        "\n",
        "    report = classification_report(\n",
        "        y_true, y_pred,\n",
        "        target_names=list(test_gen.class_indices.keys()),\n",
        "        output_dict=True\n",
        "    )\n",
        "    cm = confusion_matrix(y_true, y_pred)\n",
        "\n",
        "    # Rutas de guardado\n",
        "    model_path = f'{model_save_dir}/{name.replace(\" \", \"_\")}.h5'\n",
        "    history_path = f'{history_save_dir}/{name.replace(\" \", \"_\")}_history.npy'\n",
        "\n",
        "    # Guardar modelo y history\n",
        "    model.save(model_path)\n",
        "    np.save(history_path, history.history)\n",
        "\n",
        "    # Guardar resumen en results\n",
        "    results[name] = {\n",
        "        'model': model,\n",
        "        'test_accuracy': test_acc,\n",
        "        'classification_report': report,\n",
        "        'confusion_matrix': cm,\n",
        "        'training_time': time() - start_time,\n",
        "        'path': model_path,\n",
        "        'history_path': history_path  # Ruta para que lo puedas recargar luego\n",
        "    }\n",
        "\n",
        "    print(f'✅ Modelo {name} guardado en: {model_path}')\n",
        "    print(f'🧾 History guardado en: {history_path}')\n",
        "\n",
        "# (Opcional) Guardar el diccionario completo results para recargar luego\n",
        "with open('/content/drive/MyDrive/Datos/models/results.pkl', 'wb') as f:\n",
        "    pickle.dump(results, f)\n",
        "\n",
        "print(\"📦 Diccionario 'results' serializado en: models/results.pkl\")"
      ]
    },
    {
      "cell_type": "code",
      "execution_count": null,
      "metadata": {
        "colab": {
          "base_uri": "https://localhost:8080/",
          "height": 1000
        },
        "id": "j-Bt6Yauhzya",
        "outputId": "2481387e-182b-46dd-a779-03f4d564b5b3"
      },
      "outputs": [
        {
          "output_type": "stream",
          "name": "stdout",
          "text": [
            "\n",
            "📊 Modelo: CNN Simple\n",
            "✅ Test Accuracy: 0.5778\n"
          ]
        },
        {
          "output_type": "display_data",
          "data": {
            "text/plain": [
              "<Figure size 600x500 with 1 Axes>"
            ],
            "image/png": "[encoded data removed]"
          },
          "metadata": {}
        },
        {
          "output_type": "stream",
          "name": "stdout",
          "text": [
            "Clase                     Precisión  Recall     F1-score  \n",
            "ASCENDINGCOLON_ADENOCARCINOMA 0.46       0.61       0.53      \n",
            "CASIGMOID_COLON           0.39       0.30       0.34      \n",
            "CECUM                     0.82       0.82       0.82      \n",
            "COLONADENOCARCINOMA       0.70       0.31       0.43      \n",
            "ESOPHAGITIS               0.50       0.75       0.60      \n",
            "HEMORRHOID_suspected_CA_colon 0.59       0.60       0.59      \n",
            "ILEOCECAL_GROWTH          0.39       0.76       0.51      \n",
            "POLYPS                    0.58       0.53       0.55      \n",
            "PYLORUS                   0.76       0.96       0.85      \n",
            "RECTADENOCARCINOMA        0.79       0.34       0.47      \n",
            "RECTGROWTH                0.63       0.26       0.36      \n",
            "SQUAMUS_CELL_ANAL_CARCINOMA 0.55       0.59       0.57      \n",
            "ULCERATIVE_COLITIS        0.64       0.79       0.71      \n",
            "Z_LINE                    0.69       0.47       0.56      \n",
            "Test Accuracy: 0.5778\n",
            "\n",
            "📊 Modelo: ResNet50\n",
            "✅ Test Accuracy: 0.1756\n"
          ]
        },
        {
          "output_type": "display_data",
          "data": {
            "text/plain": [
              "<Figure size 600x500 with 1 Axes>"
            ],
            "image/png": "[encoded data removed]"
          },
          "metadata": {}
        },
        {
          "output_type": "stream",
          "name": "stdout",
          "text": [
            "Clase                     Precisión  Recall     F1-score  \n",
            "ASCENDINGCOLON_ADENOCARCINOMA 0.11       0.10       0.11      \n",
            "CASIGMOID_COLON           0.09       0.02       0.03      \n",
            "CECUM                     0.20       0.19       0.20      \n",
            "COLONADENOCARCINOMA       0.09       0.10       0.09      \n",
            "ESOPHAGITIS               0.35       0.82       0.49      \n",
            "HEMORRHOID_suspected_CA_colon 0.00       0.00       0.00      \n",
            "ILEOCECAL_GROWTH          0.14       0.06       0.08      \n",
            "POLYPS                    0.00       0.00       0.00      \n",
            "PYLORUS                   0.15       0.20       0.17      \n",
            "RECTADENOCARCINOMA        0.17       0.59       0.27      \n",
            "RECTGROWTH                0.00       0.00       0.00      \n",
            "SQUAMUS_CELL_ANAL_CARCINOMA 0.11       0.16       0.13      \n",
            "ULCERATIVE_COLITIS        0.12       0.07       0.09      \n",
            "Z_LINE                    0.14       0.14       0.14      \n",
            "Test Accuracy: 0.1756\n",
            "\n",
            "📊 Modelo: DenseNet121\n",
            "✅ Test Accuracy: 0.7858\n"
          ]
        },
        {
          "output_type": "display_data",
          "data": {
            "text/plain": [
              "<Figure size 600x500 with 1 Axes>"
            ],
            "image/png": "[encoded data removed]"
          },
          "metadata": {}
        },
        {
          "output_type": "stream",
          "name": "stdout",
          "text": [
            "Clase                     Precisión  Recall     F1-score  \n",
            "ASCENDINGCOLON_ADENOCARCINOMA 0.65       0.78       0.71      \n",
            "CASIGMOID_COLON           0.64       0.49       0.55      \n",
            "CECUM                     0.97       0.90       0.93      \n",
            "COLONADENOCARCINOMA       0.54       0.65       0.59      \n",
            "ESOPHAGITIS               0.72       0.86       0.79      \n",
            "HEMORRHOID_suspected_CA_colon 0.80       0.86       0.83      \n",
            "ILEOCECAL_GROWTH          0.82       0.76       0.79      \n",
            "POLYPS                    0.81       0.94       0.87      \n",
            "PYLORUS                   0.92       0.99       0.95      \n",
            "RECTADENOCARCINOMA        0.64       0.67       0.66      \n",
            "RECTGROWTH                0.94       0.70       0.80      \n",
            "SQUAMUS_CELL_ANAL_CARCINOMA 0.96       0.84       0.90      \n",
            "ULCERATIVE_COLITIS        0.88       0.90       0.89      \n",
            "Z_LINE                    0.84       0.65       0.73      \n",
            "Test Accuracy: 0.7858\n"
          ]
        }
      ],
      "source": [
        "import os\n",
        "import matplotlib.pyplot as plt\n",
        "import seaborn as sns\n",
        "from sklearn.metrics import classification_report\n",
        "import numpy as np\n",
        "\n",
        "def generate_reports(results, output_dir='reports'):\n",
        "    os.makedirs(output_dir, exist_ok=True)\n",
        "\n",
        "    for name, result in results.items():\n",
        "        cm = result['confusion_matrix']\n",
        "        acc = result['test_accuracy']\n",
        "        report = result['classification_report']\n",
        "\n",
        "        # ✅ 1. Mostrar test accuracy en consola\n",
        "        print(f'\\n📊 Modelo: {name}')\n",
        "        print(f'✅ Test Accuracy: {acc:.4f}')\n",
        "\n",
        "        # ✅ 2. Matriz de confusión con test accuracy\n",
        "        plt.figure(figsize=(6, 5))\n",
        "        sns.heatmap(cm, annot=True, fmt='d', cmap='Blues', cbar=False)\n",
        "        plt.title(f'{name} - Confusion Matrix\\nTest Accuracy: {acc:.4f}')\n",
        "        plt.xlabel('Predicted')\n",
        "        plt.ylabel('Actual')\n",
        "        plt.tight_layout()\n",
        "\n",
        "        # ✅ 3. Guardar imagen\n",
        "        report_img_path = os.path.join(output_dir, f'{name.replace(\" \", \"_\")}_confusion_matrix.png')\n",
        "        plt.savefig(report_img_path)\n",
        "        plt.show()\n",
        "\n",
        "        # ✅ 4. Mostrar y guardar el classification report como texto\n",
        "        report_text = classification_report(\n",
        "            result['model'].predict(result['model'].input),\n",
        "            result['model'].predict(result['model'].input),\n",
        "            target_names=report.keys() if isinstance(report, dict) else None\n",
        "        ) if False else None  # (Este bloque se deja como placeholder)\n",
        "\n",
        "        # Usamos el reporte ya generado en 'report' (que es un dict), lo convertimos a texto manualmente\n",
        "        report_lines = [f\"{'Clase':<25} {'Precisión':<10} {'Recall':<10} {'F1-score':<10}\"]\n",
        "        for clase, valores in report.items():\n",
        "            if clase in ['accuracy', 'macro avg', 'weighted avg']:\n",
        "                continue  # Saltamos resumen\n",
        "            precision = valores['precision']\n",
        "            recall = valores['recall']\n",
        "            f1 = valores['f1-score']\n",
        "            report_lines.append(f\"{clase:<25} {precision:<10.2f} {recall:<10.2f} {f1:<10.2f}\")\n",
        "\n",
        "        # Agregar resumen\n",
        "        acc_line = f\"\\nTest Accuracy: {acc:.4f}\"\n",
        "        report_full_text = \"\\n\".join(report_lines) + acc_line\n",
        "\n",
        "        # Mostrar por consola\n",
        "        print(report_full_text)\n",
        "\n",
        "        # Guardar en archivo\n",
        "        report_txt_path = os.path.join(output_dir, f'{name.replace(\" \", \"_\")}_report.txt')\n",
        "        with open(report_txt_path, 'w') as f:\n",
        "            f.write(report_full_text)\n",
        "generate_reports(results)\n"
      ]
    },
    {
      "cell_type": "code",
      "execution_count": null,
      "metadata": {
        "colab": {
          "base_uri": "https://localhost:8080/"
        },
        "id": "6rtpSHustoGx",
        "outputId": "b8d389cb-354c-41e0-d1d1-4db3bb39ae13"
      },
      "outputs": [
        {
          "output_type": "stream",
          "name": "stdout",
          "text": [
            "Found 1760 images belonging to 14 classes.\n",
            "Evaluando: CNN_Simple\n"
          ]
        },
        {
          "output_type": "stream",
          "name": "stderr",
          "text": [
            "WARNING:absl:Compiled the loaded model, but the compiled metrics have yet to be built. `model.compile_metrics` will be empty until you train or evaluate the model.\n",
            "/usr/local/lib/python3.11/dist-packages/keras/src/trainers/data_adapters/py_dataset_adapter.py:121: UserWarning: Your `PyDataset` class should call `super().__init__(**kwargs)` in its constructor. `**kwargs` can include `workers`, `use_multiprocessing`, `max_queue_size`. Do not pass these arguments to `fit()`, as they will be ignored.\n",
            "  self._warn_if_super_not_called()\n"
          ]
        },
        {
          "output_type": "stream",
          "name": "stdout",
          "text": [
            "Evaluando: ResNet50\n"
          ]
        },
        {
          "output_type": "stream",
          "name": "stderr",
          "text": [
            "WARNING:absl:Compiled the loaded model, but the compiled metrics have yet to be built. `model.compile_metrics` will be empty until you train or evaluate the model.\n"
          ]
        },
        {
          "output_type": "stream",
          "name": "stdout",
          "text": [
            "Evaluando: DenseNet121\n"
          ]
        },
        {
          "output_type": "stream",
          "name": "stderr",
          "text": [
            "WARNING:absl:Compiled the loaded model, but the compiled metrics have yet to be built. `model.compile_metrics` will be empty until you train or evaluate the model.\n"
          ]
        },
        {
          "output_type": "stream",
          "name": "stdout",
          "text": [
            "✅ Gráficas AUC-ROC y Precision-Recall guardadas correctamente en tu Drive.\n"
          ]
        }
      ],
      "source": [
        "import os\n",
        "import numpy as np\n",
        "import matplotlib.pyplot as plt\n",
        "from sklearn.metrics import roc_curve, auc, precision_recall_curve, average_precision_score\n",
        "from tensorflow.keras.models import load_model\n",
        "from tensorflow.keras.preprocessing.image import ImageDataGenerator\n",
        "from tensorflow.keras.utils import to_categorical\n",
        "\n",
        "# Ruta donde guardar las gráficas\n",
        "output_dir = \"/content/drive/MyDrive/Datos/evaluacion_modelos\"\n",
        "os.makedirs(output_dir, exist_ok=True)\n",
        "\n",
        "# Rutas a los modelos\n",
        "ruta_modelos = {\n",
        "    \"CNN_Simple\": \"/content/drive/MyDrive/Datos/models/CNN_Simple.h5\",\n",
        "    \"ResNet50\": \"/content/drive/MyDrive/Datos/models/ResNet50.h5\",\n",
        "    \"DenseNet121\": \"/content/drive/MyDrive/Datos/models/DenseNet121.h5\"\n",
        "}\n",
        "\n",
        "# Cargar conjunto de test\n",
        "datagen = ImageDataGenerator(rescale=1./255)\n",
        "test_generator = datagen.flow_from_directory(\n",
        "    \"/content/drive/MyDrive/Datos/CRCCD_V1/Test\",\n",
        "    target_size=(224, 224),\n",
        "    batch_size=32,\n",
        "    class_mode='categorical',\n",
        "    shuffle=False\n",
        ")\n",
        "\n",
        "y_true = test_generator.classes\n",
        "class_names = list(test_generator.class_indices.keys())\n",
        "n_classes = len(class_names)\n",
        "y_true_cat = to_categorical(y_true, num_classes=n_classes)\n",
        "\n",
        "# Generar curvas ROC y PR para cada modelo\n",
        "for nombre_modelo, modelo_path in ruta_modelos.items():\n",
        "    print(f\"Evaluando: {nombre_modelo}\")\n",
        "    model = load_model(modelo_path)\n",
        "    y_scores = model.predict(test_generator, verbose=0)\n",
        "\n",
        "    # ROC\n",
        "    plt.figure(figsize=(10, 8))\n",
        "    for i in range(n_classes):\n",
        "        fpr, tpr, _ = roc_curve(y_true_cat[:, i], y_scores[:, i])\n",
        "        roc_auc = auc(fpr, tpr)\n",
        "        plt.plot(fpr, tpr, label=f\"{class_names[i]} (AUC = {roc_auc:.2f})\")\n",
        "    plt.plot([0, 1], [0, 1], \"k--\", label=\"Aleatorio\")\n",
        "    plt.xlabel(\"Falsos Positivos\")\n",
        "    plt.ylabel(\"Verdaderos Positivos\")\n",
        "    plt.title(f\"Curva ROC - {nombre_modelo}\")\n",
        "    plt.legend(loc=\"lower right\")\n",
        "    plt.tight_layout()\n",
        "    plt.savefig(os.path.join(output_dir, f\"roc_curve_{nombre_modelo}.png\"))\n",
        "    plt.close()\n",
        "\n",
        "    # Precision-Recall\n",
        "    plt.figure(figsize=(10, 8))\n",
        "    for i in range(n_classes):\n",
        "        precision, recall, _ = precision_recall_curve(y_true_cat[:, i], y_scores[:, i])\n",
        "        pr_auc = average_precision_score(y_true_cat[:, i], y_scores[:, i])\n",
        "        plt.plot(recall, precision, label=f\"{class_names[i]} (AP = {pr_auc:.2f})\")\n",
        "    plt.xlabel(\"Recall\")\n",
        "    plt.ylabel(\"Precisión\")\n",
        "    plt.title(f\"Curva Precisión-Recall - {nombre_modelo}\")\n",
        "    plt.legend(loc=\"lower left\")\n",
        "    plt.tight_layout()\n",
        "    plt.savefig(os.path.join(output_dir, f\"precision_recall_{nombre_modelo}.png\"))\n",
        "    plt.close()\n",
        "\n",
        "print(\"✅ Gráficas AUC-ROC y Precision-Recall guardadas correctamente en tu Drive.\")\n"
      ]
    },
    {
      "cell_type": "code",
      "execution_count": null,
      "metadata": {
        "colab": {
          "base_uri": "https://localhost:8080/"
        },
        "id": "1RXxyVK2GM5j",
        "outputId": "37163c45-ca4c-4cbe-d4ef-7512d1f67e54"
      },
      "outputs": [
        {
          "output_type": "stream",
          "name": "stderr",
          "text": [
            "WARNING:absl:Compiled the loaded model, but the compiled metrics have yet to be built. `model.compile_metrics` will be empty until you train or evaluate the model.\n"
          ]
        },
        {
          "output_type": "stream",
          "name": "stdout",
          "text": [
            "Found 7000 images belonging to 14 classes.\n"
          ]
        },
        {
          "output_type": "stream",
          "name": "stderr",
          "text": [
            "WARNING:tensorflow:6 out of the last 60 calls to <function TensorFlowTrainer.make_predict_function.<locals>.one_step_on_data_distributed at 0x7b2cbc3618a0> triggered tf.function retracing. Tracing is expensive and the excessive number of tracings could be due to (1) creating @tf.function repeatedly in a loop, (2) passing tensors with different shapes, (3) passing Python objects instead of tensors. For (1), please define your @tf.function outside of the loop. For (2), @tf.function has reduce_retracing=True option that can avoid unnecessary retracing. For (3), please refer to https://www.tensorflow.org/guide/function#controlling_retracing and https://www.tensorflow.org/api_docs/python/tf/function for  more details.\n"
          ]
        },
        {
          "output_type": "stream",
          "name": "stdout",
          "text": [
            "\u001b[1m1/1\u001b[0m \u001b[32m━━━━━━━━━━━━━━━━━━━━\u001b[0m\u001b[37m\u001b[0m \u001b[1m9s\u001b[0m 9s/step\n",
            "✅ Modelo DenseNet121 predice: ESOPHAGITIS (probabilidad 0.80)\n"
          ]
        }
      ],
      "source": [
        "# 📂 Montar Google Drive (si no está montado aún)\n",
        "import os\n",
        "from google.colab import drive\n",
        "\n",
        "if not os.path.ismount('/content/drive'):\n",
        "    drive.mount('/content/drive')\n",
        "\n",
        "# ✅ Elegir el nombre del modelo que guardaste\n",
        "modelo_seleccionado = 'DenseNet121'  # Cambia a 'CNN Simple', 'ResNet50' o 'DenseNet121'\n",
        "modelo_path = f'/content/drive/MyDrive/Datos/models/{modelo_seleccionado.replace(\" \", \"_\")}.h5'\n",
        "\n",
        "# 📥 Cargar el modelo desde Drive\n",
        "from tensorflow.keras.models import load_model\n",
        "model = load_model(modelo_path)\n",
        "\n",
        "# 🏷️ Obtener las clases (solo usamos el generador para eso)\n",
        "from tensorflow.keras.preprocessing.image import ImageDataGenerator\n",
        "\n",
        "datagen = ImageDataGenerator(rescale=1./255)\n",
        "temp_gen = datagen.flow_from_directory(\n",
        "    '/content/drive/MyDrive/Datos/CRCCD_V1/Train',\n",
        "    target_size=(224, 224),\n",
        "    batch_size=32,\n",
        "    class_mode='sparse'\n",
        ")\n",
        "class_names = list(temp_gen.class_indices.keys())\n",
        "\n",
        "# 🖼️ Ruta de la imagen a predecir\n",
        "img_path = '/content/drive/MyDrive/Datos/CRCCD_V1/Test/ESOPHAGITIS/dc485548-8434-446d-8f00-59fae6e44758.jpg'  # Cambia según tu imagen\n",
        "\n",
        "# 📦 Preprocesar imagen\n",
        "import cv2\n",
        "import numpy as np\n",
        "\n",
        "img = cv2.imread(img_path)\n",
        "\n",
        "if img is None:\n",
        "    print(f'❌ No se pudo cargar la imagen en: {img_path}')\n",
        "else:\n",
        "    img = cv2.resize(img, (224, 224)) / 255.0\n",
        "    img = np.expand_dims(img, axis=0)\n",
        "\n",
        "    # 🔮 Realizar predicción\n",
        "    pred = model.predict(img)[0]\n",
        "    prob_max = np.max(pred)\n",
        "    clase_predicha = np.argmax(pred)\n",
        "    nombre_clase = class_names[clase_predicha]\n",
        "\n",
        "    # 🔍 Mostrar resultado\n",
        "    umbral_confianza = 0.50\n",
        "\n",
        "    if prob_max < umbral_confianza:\n",
        "        print(f'❓ Imagen desconocida (probabilidad máxima {prob_max:.2f})')\n",
        "    else:\n",
        "        print(f'✅ Modelo {modelo_seleccionado} predice: {nombre_clase} (probabilidad {prob_max:.2f})')"
      ]
    },
    {
      "cell_type": "markdown",
      "metadata": {
        "id": "Rduf44kX6kVN"
      },
      "source": [
        "## **METRICAS**"
      ]
    },
    {
      "cell_type": "code",
      "execution_count": null,
      "metadata": {
        "colab": {
          "base_uri": "https://localhost:8080/"
        },
        "id": "x36qp45DIWH6",
        "outputId": "40957bf0-37cc-4f34-e1be-8aa2c9c05100"
      },
      "outputs": [
        {
          "output_type": "stream",
          "name": "stdout",
          "text": [
            "Found 1760 images belonging to 14 classes.\n"
          ]
        },
        {
          "output_type": "stream",
          "name": "stderr",
          "text": [
            "WARNING:absl:Compiled the loaded model, but the compiled metrics have yet to be built. `model.compile_metrics` will be empty until you train or evaluate the model.\n",
            "/usr/local/lib/python3.11/dist-packages/keras/src/trainers/data_adapters/py_dataset_adapter.py:121: UserWarning: Your `PyDataset` class should call `super().__init__(**kwargs)` in its constructor. `**kwargs` can include `workers`, `use_multiprocessing`, `max_queue_size`. Do not pass these arguments to `fit()`, as they will be ignored.\n",
            "  self._warn_if_super_not_called()\n",
            "WARNING:absl:Compiled the loaded model, but the compiled metrics have yet to be built. `model.compile_metrics` will be empty until you train or evaluate the model.\n",
            "WARNING:absl:Compiled the loaded model, but the compiled metrics have yet to be built. `model.compile_metrics` will be empty until you train or evaluate the model.\n",
            "/usr/local/lib/python3.11/dist-packages/sklearn/metrics/_classification.py:1565: UndefinedMetricWarning: Precision is ill-defined and being set to 0.0 in labels with no predicted samples. Use `zero_division` parameter to control this behavior.\n",
            "  _warn_prf(average, modifier, f\"{metric.capitalize()} is\", len(result))\n",
            "/usr/local/lib/python3.11/dist-packages/sklearn/metrics/_classification.py:1565: UndefinedMetricWarning: Precision is ill-defined and being set to 0.0 in labels with no predicted samples. Use `zero_division` parameter to control this behavior.\n",
            "  _warn_prf(average, modifier, f\"{metric.capitalize()} is\", len(result))\n",
            "/usr/local/lib/python3.11/dist-packages/sklearn/metrics/_classification.py:1565: UndefinedMetricWarning: Precision is ill-defined and being set to 0.0 in labels with no predicted samples. Use `zero_division` parameter to control this behavior.\n",
            "  _warn_prf(average, modifier, f\"{metric.capitalize()} is\", len(result))\n"
          ]
        },
        {
          "output_type": "stream",
          "name": "stdout",
          "text": [
            "✅ Evaluación completada. Archivos guardados en: /content/drive/MyDrive/Datos/evaluacion_modelos\n"
          ]
        }
      ],
      "source": [
        "import os\n",
        "import numpy as np\n",
        "import matplotlib.pyplot as plt\n",
        "import seaborn as sns\n",
        "from sklearn.metrics import confusion_matrix, classification_report, accuracy_score, f1_score, matthews_corrcoef, precision_score, recall_score\n",
        "from tensorflow.keras.models import load_model\n",
        "from tensorflow.keras.preprocessing.image import ImageDataGenerator\n",
        "import pandas as pd\n",
        "\n",
        "# Configuraciones\n",
        "model_paths = {\n",
        "    \"CNN_Simple\": \"/content/drive/MyDrive/Datos/models/CNN_Simple.h5\",\n",
        "    \"DenseNet121\": \"/content/drive/MyDrive/Datos/models/DenseNet121.h5\",\n",
        "    \"ResNet50\": \"/content/drive/MyDrive/Datos/models/ResNet50.h5\"\n",
        "}\n",
        "\n",
        "test_data_dir = \"/content/drive/MyDrive/Datos/CRCCD_V1/Test\"\n",
        "img_size = (224, 224)\n",
        "batch_size = 32\n",
        "output_dir = \"/content/drive/MyDrive/Datos/evaluacion_modelos\"\n",
        "os.makedirs(output_dir, exist_ok=True)\n",
        "\n",
        "# Cargar datos\n",
        "datagen = ImageDataGenerator(rescale=1./255)\n",
        "test_generator = datagen.flow_from_directory(\n",
        "    test_data_dir,\n",
        "    target_size=img_size,\n",
        "    batch_size=batch_size,\n",
        "    class_mode='categorical',\n",
        "    shuffle=False\n",
        ")\n",
        "class_names = list(test_generator.class_indices.keys())\n",
        "\n",
        "# Evaluar modelos\n",
        "metricas_totales = []\n",
        "\n",
        "for model_name, model_path in model_paths.items():\n",
        "    model = load_model(model_path)\n",
        "    y_true = test_generator.classes\n",
        "    y_pred_probs = model.predict(test_generator, verbose=0)\n",
        "    y_pred = np.argmax(y_pred_probs, axis=1)\n",
        "\n",
        "    acc = accuracy_score(y_true, y_pred)\n",
        "    prec = precision_score(y_true, y_pred, average='weighted', zero_division=0)\n",
        "    rec = recall_score(y_true, y_pred, average='weighted')\n",
        "    f1 = f1_score(y_true, y_pred, average='weighted')\n",
        "    mcc = matthews_corrcoef(y_true, y_pred)\n",
        "    report = classification_report(y_true, y_pred, target_names=class_names, output_dict=True)\n",
        "    cm = confusion_matrix(y_true, y_pred)\n",
        "\n",
        "        # Guardar matriz de confusión como imagen\n",
        "    plt.figure(figsize=(10, 8))\n",
        "    sns.heatmap(cm, annot=True, fmt='d', xticklabels=class_names, yticklabels=class_names, cmap='Blues', cbar=False)\n",
        "    plt.title(f'Matriz de Confusión - {model_name}', fontsize=14)\n",
        "    plt.xlabel('Predicho', fontsize=12)\n",
        "    plt.ylabel('Real', fontsize=12)\n",
        "    plt.xticks(rotation=45, ha='right', fontsize=10)\n",
        "    plt.yticks(rotation=0, fontsize=10)\n",
        "    plt.tight_layout()  # Ajusta el contenido para que no se recorte\n",
        "    cm_path = os.path.join(output_dir, f\"confusion_matrix_{model_name}.png\")\n",
        "    plt.savefig(cm_path, dpi=300)\n",
        "    plt.close()\n",
        "\n",
        "    # Guardar clasificación detallada como CSV\n",
        "    report_df = pd.DataFrame(report).transpose()\n",
        "    report_df.to_csv(os.path.join(output_dir, f\"classification_report_{model_name}.csv\"))\n",
        "\n",
        "    # Guardar resumen de métricas\n",
        "    metricas_totales.append({\n",
        "        \"Modelo\": model_name,\n",
        "        \"Accuracy\": acc,\n",
        "        \"Precision\": prec,\n",
        "        \"Recall\": rec,\n",
        "        \"F1-Score\": f1,\n",
        "        \"MCC\": mcc\n",
        "    })\n",
        "\n",
        "# Guardar todas las métricas en una tabla CSV\n",
        "df_metricas = pd.DataFrame(metricas_totales)\n",
        "df_metricas.to_csv(os.path.join(output_dir, \"resumen_metricas.csv\"), index=False)\n",
        "\n",
        "print(\"✅ Evaluación completada. Archivos guardados en:\", output_dir)\n"
      ]
    },
    {
      "cell_type": "code",
      "execution_count": null,
      "metadata": {
        "colab": {
          "base_uri": "https://localhost:8080/"
        },
        "id": "UP4K7TNhnNSG",
        "outputId": "f5e69ad9-f592-4097-a024-dde1c97abff9"
      },
      "outputs": [
        {
          "output_type": "stream",
          "name": "stderr",
          "text": [
            "Procesando PYLORUS: 100%|██████████| 125/125 [00:02<00:00, 47.41it/s]\n",
            "Procesando CASIGMOID_COLON: 100%|██████████| 125/125 [00:00<00:00, 161.73it/s]\n",
            "Procesando RECTADENOCARCINOMA: 100%|██████████| 125/125 [00:00<00:00, 158.13it/s]\n",
            "Procesando CECUM: 100%|██████████| 125/125 [00:01<00:00, 91.24it/s] \n",
            "Procesando HEMORRHOID_suspected_CA_colon: 100%|██████████| 125/125 [00:00<00:00, 157.24it/s]\n",
            "Procesando ILEOCECAL_GROWTH: 100%|██████████| 125/125 [00:00<00:00, 174.89it/s]\n",
            "Procesando COLONADENOCARCINOMA: 100%|██████████| 125/125 [00:00<00:00, 165.75it/s]\n",
            "Procesando ASCENDINGCOLON_ADENOCARCINOMA: 100%|██████████| 125/125 [00:00<00:00, 160.65it/s]\n",
            "Procesando ESOPHAGITIS: 100%|██████████| 125/125 [00:03<00:00, 38.52it/s]\n",
            "Procesando POLYPS: 100%|██████████| 125/125 [00:01<00:00, 86.99it/s] \n",
            "Procesando ULCERATIVE_COLITIS: 100%|██████████| 125/125 [00:01<00:00, 94.54it/s] \n",
            "Procesando SQUAMUS_CELL_ANAL_CARCINOMA: 100%|██████████| 135/135 [00:00<00:00, 146.96it/s]\n",
            "Procesando RECTGROWTH: 100%|██████████| 125/125 [00:00<00:00, 161.71it/s]\n",
            "Procesando Z_LINE: 100%|██████████| 125/125 [00:02<00:00, 50.02it/s]"
          ]
        },
        {
          "output_type": "stream",
          "name": "stdout",
          "text": [
            "✅ Procesamiento completado. Las imágenes están listas en '/content/processed_crccd_dataset_npy/Test'.\n"
          ]
        },
        {
          "output_type": "stream",
          "name": "stderr",
          "text": [
            "\n"
          ]
        }
      ],
      "source": [
        "import os\n",
        "import numpy as np\n",
        "import cv2\n",
        "from tqdm import tqdm\n",
        "\n",
        "# Ruta al dataset original en el Drive\n",
        "ruta_original = \"/content/drive/MyDrive/Datos/CRCCD_V1/Test\"\n",
        "\n",
        "# Ruta donde se guardará el dataset procesado\n",
        "ruta_destino = \"/content/processed_crccd_dataset_npy/Test\"\n",
        "\n",
        "# Crear carpeta destino si no existe\n",
        "os.makedirs(ruta_destino, exist_ok=True)\n",
        "\n",
        "# Procesar las imágenes\n",
        "img_size = (224, 224)\n",
        "\n",
        "for clase in os.listdir(ruta_original):\n",
        "    carpeta_clase_origen = os.path.join(ruta_original, clase)\n",
        "    carpeta_clase_destino = os.path.join(ruta_destino, clase)\n",
        "    os.makedirs(carpeta_clase_destino, exist_ok=True)\n",
        "\n",
        "    for img_nombre in tqdm(os.listdir(carpeta_clase_origen), desc=f\"Procesando {clase}\"):\n",
        "        ruta_img = os.path.join(carpeta_clase_origen, img_nombre)\n",
        "\n",
        "        try:\n",
        "            img = cv2.imread(ruta_img)\n",
        "            if img is None:\n",
        "                continue\n",
        "            img = cv2.resize(img, img_size)\n",
        "            img = cv2.cvtColor(img, cv2.COLOR_BGR2RGB)\n",
        "            ruta_guardado = os.path.join(carpeta_clase_destino, img_nombre)\n",
        "            cv2.imwrite(ruta_guardado, cv2.cvtColor(img, cv2.COLOR_RGB2BGR))\n",
        "        except Exception as e:\n",
        "            print(f\"Error procesando {ruta_img}: {e}\")\n",
        "\n",
        "print(\"✅ Procesamiento completado. Las imágenes están listas en '/content/processed_crccd_dataset_npy/Test'.\")\n"
      ]
    },
    {
      "cell_type": "code",
      "execution_count": null,
      "metadata": {
        "colab": {
          "base_uri": "https://localhost:8080/"
        },
        "id": "PX_qwDtNp2lU",
        "outputId": "65838883-4db9-4b61-a5f7-4819b65da7b5"
      },
      "outputs": [
        {
          "output_type": "stream",
          "name": "stdout",
          "text": [
            "Found 1760 images belonging to 14 classes.\n"
          ]
        },
        {
          "output_type": "stream",
          "name": "stderr",
          "text": [
            "WARNING:absl:Compiled the loaded model, but the compiled metrics have yet to be built. `model.compile_metrics` will be empty until you train or evaluate the model.\n",
            "/usr/local/lib/python3.11/dist-packages/keras/src/trainers/data_adapters/py_dataset_adapter.py:121: UserWarning: Your `PyDataset` class should call `super().__init__(**kwargs)` in its constructor. `**kwargs` can include `workers`, `use_multiprocessing`, `max_queue_size`. Do not pass these arguments to `fit()`, as they will be ignored.\n",
            "  self._warn_if_super_not_called()\n",
            "WARNING:absl:Compiled the loaded model, but the compiled metrics have yet to be built. `model.compile_metrics` will be empty until you train or evaluate the model.\n",
            "WARNING:absl:Compiled the loaded model, but the compiled metrics have yet to be built. `model.compile_metrics` will be empty until you train or evaluate the model.\n"
          ]
        },
        {
          "output_type": "stream",
          "name": "stdout",
          "text": [
            "✅ Prueba de McNemar calculada y guardada en 'mcnemar_resultados.csv'\n"
          ]
        }
      ],
      "source": [
        "import os\n",
        "import numpy as np\n",
        "import pandas as pd\n",
        "from sklearn.metrics import confusion_matrix\n",
        "from statsmodels.stats.contingency_tables import mcnemar\n",
        "from tensorflow.keras.models import load_model\n",
        "from tensorflow.keras.preprocessing.image import ImageDataGenerator\n",
        "\n",
        "# Ruta del dataset procesado\n",
        "ruta_test = \"/content/processed_crccd_dataset_npy/Test\"\n",
        "\n",
        "# Diccionario con nombres y rutas de tus modelos\n",
        "modelos = {\n",
        "    \"CNN_Simple\": \"/content/drive/MyDrive/Datos/models/CNN_Simple.h5\",\n",
        "    \"ResNet50\": \"/content/drive/MyDrive/Datos/models/ResNet50.h5\",\n",
        "    \"DenseNet121\": \"/content/drive/MyDrive/Datos/models/DenseNet121.h5\"\n",
        "}\n",
        "\n",
        "# Preparamos el generador de imágenes\n",
        "datagen = ImageDataGenerator(rescale=1./255)\n",
        "generator = datagen.flow_from_directory(\n",
        "    ruta_test,\n",
        "    target_size=(224, 224),\n",
        "    batch_size=32,\n",
        "    class_mode='sparse',\n",
        "    shuffle=False\n",
        ")\n",
        "\n",
        "# Ground truth\n",
        "y_true = generator.classes\n",
        "\n",
        "# Diccionario para guardar predicciones por modelo\n",
        "predicciones_modelos = {}\n",
        "\n",
        "# Predecimos con cada modelo\n",
        "for nombre, ruta in modelos.items():\n",
        "    modelo = load_model(ruta)\n",
        "    y_pred = modelo.predict(generator, steps=len(generator), verbose=0)\n",
        "    y_pred_clase = np.argmax(y_pred, axis=1)\n",
        "    predicciones_modelos[nombre] = y_pred_clase\n",
        "\n",
        "# Guardamos predicciones\n",
        "pred_df = pd.DataFrame(predicciones_modelos)\n",
        "pred_df[\"y_true\"] = y_true\n",
        "pred_df.to_csv(\"/content/drive/MyDrive/Datos/evaluacion_modelos/predicciones_modelos.csv\", index=False)\n",
        "\n",
        "# Calculamos McNemar entre pares\n",
        "pares = [(\"CNN_Simple\", \"ResNet50\"), (\"CNN_Simple\", \"DenseNet121\"), (\"ResNet50\", \"DenseNet121\")]\n",
        "resultados = []\n",
        "\n",
        "for m1, m2 in pares:\n",
        "    iguales = (pred_df[m1] == pred_df[\"y_true\"]).astype(int)\n",
        "    comparado = (pred_df[m2] == pred_df[\"y_true\"]).astype(int)\n",
        "\n",
        "    # Matriz 2x2 para McNemar\n",
        "    tabla = confusion_matrix(iguales, comparado, labels=[1, 0])\n",
        "    if tabla.shape != (2,2):\n",
        "        tabla = np.array([[0, 0], [0, 0]])  # Evitar errores si hay una sola clase\n",
        "\n",
        "    resultado = mcnemar(tabla, exact=True)\n",
        "\n",
        "    resultados.append({\n",
        "        \"modelo_1\": m1,\n",
        "        \"modelo_2\": m2,\n",
        "        \"statistic\": resultado.statistic,\n",
        "        \"p_value\": resultado.pvalue\n",
        "    })\n",
        "\n",
        "# Guardamos resultados\n",
        "df_mcnemar = pd.DataFrame(resultados)\n",
        "df_mcnemar.to_csv(\"/content/drive/MyDrive/Datos/evaluacion_modelos/mcnemar_resultados.csv\", index=False)\n",
        "\n",
        "print(\"✅ Prueba de McNemar calculada y guardada en 'mcnemar_resultados.csv'\")\n"
      ]
    },
    {
      "cell_type": "markdown",
      "metadata": {
        "id": "8_kGoSTAAKGn"
      },
      "source": [
        "# **STREAMLIT**"
      ]
    },
    {
      "cell_type": "code",
      "execution_count": null,
      "metadata": {
        "colab": {
          "base_uri": "https://localhost:8080/"
        },
        "id": "LB-aNG6a6AKx",
        "outputId": "eccbb759-503c-4bdf-ae1c-68c2e680f0f4"
      },
      "outputs": [
        {
          "output_type": "stream",
          "name": "stdout",
          "text": [
            "  Preparing metadata (setup.py) ... \u001b[?25l\u001b[?25hdone\n",
            "\u001b[2K     \u001b[90m━━━━━━━━━━━━━━━━━━━━━━━━━━━━━━━━━━━━━━━━\u001b[0m \u001b[32m44.3/44.3 kB\u001b[0m \u001b[31m3.6 MB/s\u001b[0m eta \u001b[36m0:00:00\u001b[0m\n",
            "\u001b[2K   \u001b[90m━━━━━━━━━━━━━━━━━━━━━━━━━━━━━━━━━━━━━━━━\u001b[0m \u001b[32m10.1/10.1 MB\u001b[0m \u001b[31m85.7 MB/s\u001b[0m eta \u001b[36m0:00:00\u001b[0m\n",
            "\u001b[2K   \u001b[90m━━━━━━━━━━━━━━━━━━━━━━━━━━━━━━━━━━━━━━━━\u001b[0m \u001b[32m6.9/6.9 MB\u001b[0m \u001b[31m115.5 MB/s\u001b[0m eta \u001b[36m0:00:00\u001b[0m\n",
            "\u001b[2K   \u001b[90m━━━━━━━━━━━━━━━━━━━━━━━━━━━━━━━━━━━━━━━━\u001b[0m \u001b[32m79.1/79.1 kB\u001b[0m \u001b[31m8.0 MB/s\u001b[0m eta \u001b[36m0:00:00\u001b[0m\n",
            "\u001b[?25h  Building wheel for fpdf (setup.py) ... \u001b[?25l\u001b[?25hdone\n"
          ]
        }
      ],
      "source": [
        "!pip install -q streamlit pyngrok tensorflow opencv-python pillow fpdf"
      ]
    },
    {
      "cell_type": "code",
      "execution_count": null,
      "metadata": {
        "id": "QctDYVGp6HI8",
        "colab": {
          "base_uri": "https://localhost:8080/"
        },
        "outputId": "fefe3cef-a014-41ba-a053-da99abd73081"
      },
      "outputs": [
        {
          "output_type": "stream",
          "name": "stdout",
          "text": []
        }
      ],
      "source": [
        "from pyngrok import ngrok\n",
        "\n",
        "ngrok.set_auth_token(\"2zWANg0HMSIv4YEvKEwbysiddvE_6EL5RVRAwTFMkR6DP5QUX\")"
      ]
    },
    {
      "cell_type": "code",
      "execution_count": null,
      "metadata": {
        "colab": {
          "base_uri": "https://localhost:8080/"
        },
        "id": "HJUfcnuA3z6m",
        "outputId": "98e7a68c-fa9a-4404-b054-c1e57f571938"
      },
      "outputs": [
        {
          "output_type": "stream",
          "name": "stdout",
          "text": [
            "Writing report_utils.py\n"
          ]
        }
      ],
      "source": [
        "%%writefile report_utils.py\n",
        "from fpdf import FPDF\n",
        "import pandas as pd\n",
        "import os\n",
        "\n",
        "def generate_pdf_from_files(results_folder, output_path=\"reporte_completo.pdf\"):\n",
        "    pdf = FPDF()\n",
        "    pdf.set_auto_page_break(auto=True, margin=15)\n",
        "    pdf.add_page()\n",
        "\n",
        "    # Título\n",
        "    pdf.set_font(\"Arial\", \"B\", 16)\n",
        "    pdf.cell(0, 10, \"Reporte Comparativo de Modelos\", ln=True, align=\"C\")\n",
        "    pdf.ln(10)\n",
        "\n",
        "    # Tabla resumen de métricas\n",
        "    resumen_path = os.path.join(results_folder, \"resumen_metricas.csv\")\n",
        "    if os.path.exists(resumen_path):\n",
        "        df = pd.read_csv(resumen_path)\n",
        "        df = df.round(4)  # reducir decimales\n",
        "        pdf.set_font(\"Arial\", \"B\", 12)\n",
        "        pdf.cell(0, 10, \"Resumen de Métricas\", ln=True)\n",
        "        pdf.ln(2)\n",
        "\n",
        "        # Ajustar ancho de columna y mostrar tabla\n",
        "        pdf.set_font(\"Arial\", \"\", 10)\n",
        "        col_widths = [40] + [30] * (len(df.columns) - 1)\n",
        "\n",
        "        # Encabezados\n",
        "        for i, col in enumerate(df.columns):\n",
        "            pdf.cell(col_widths[i], 8, col, border=1)\n",
        "        pdf.ln()\n",
        "\n",
        "        # Filas\n",
        "        for _, row in df.iterrows():\n",
        "            for i, val in enumerate(row):\n",
        "                pdf.cell(col_widths[i], 8, str(val), border=1)\n",
        "            pdf.ln()\n",
        "\n",
        "        pdf.ln(10)\n",
        "    else:\n",
        "        pdf.set_font(\"Arial\", \"\", 10)\n",
        "        pdf.cell(0, 10, \"No se encontró el resumen de métricas.\", ln=True)\n",
        "\n",
        "    # Resultados McNemar\n",
        "    mcnemar_path = os.path.join(results_folder, \"mcnemar_resultados.csv\")\n",
        "    if os.path.exists(mcnemar_path):\n",
        "        df_mcnemar = pd.read_csv(mcnemar_path)\n",
        "\n",
        "        pdf.set_font(\"Arial\", \"B\", 12)\n",
        "        pdf.cell(0, 10, \"Prueba de McNemar entre modelos\", ln=True)\n",
        "        pdf.ln(2)\n",
        "\n",
        "        # Tabla McNemar\n",
        "        pdf.set_font(\"Arial\", \"\", 10)\n",
        "        col_widths_mcnemar = [40, 40, 40, 40]\n",
        "        headers = df_mcnemar.columns.tolist()\n",
        "        for i, col in enumerate(headers):\n",
        "            pdf.cell(col_widths_mcnemar[i], 8, col, border=1)\n",
        "        pdf.ln()\n",
        "        for _, row in df_mcnemar.iterrows():\n",
        "            for i, val in enumerate(row):\n",
        "                pdf.cell(col_widths_mcnemar[i], 8, str(val), border=1)\n",
        "            pdf.ln()\n",
        "\n",
        "        pdf.ln(5)\n",
        "        pdf.set_font(\"Arial\", \"\", 10)\n",
        "        for _, row in df_mcnemar.iterrows():\n",
        "            interpretacion = \"\"\n",
        "            p = row[\"p_value\"]\n",
        "            if p < 0.05:\n",
        "                interpretacion = \"Se rechaza la hipótesis nula: los modelos muestran diferencias significativas.\"\n",
        "            else:\n",
        "                interpretacion = \"No se rechaza la hipótesis nula: no hay diferencia significativa entre modelos.\"\n",
        "\n",
        "            texto = f\"Comparacion {row['modelo_1']} vs {row['modelo_2']} - estadistico = {row['statistic']}, p-valor = {row['p_value']} -> {interpretacion}\"\n",
        "            pdf.multi_cell(0, 8, texto)\n",
        "            pdf.ln(1)\n",
        "\n",
        "        pdf.ln(5)\n",
        "\n",
        "    else:\n",
        "        pdf.set_font(\"Arial\", \"\", 10)\n",
        "        pdf.cell(0, 10, \"No se encontró el archivo de resultados de McNemar.\", ln=True)\n",
        "\n",
        "    # Imágenes de matrices de confusión\n",
        "    pdf.set_font(\"Arial\", \"B\", 12)\n",
        "    pdf.cell(0, 10, \"Matrices de Confusión\", ln=True)\n",
        "    pdf.ln(3)\n",
        "\n",
        "    for model_name in [\"CNN_Simple\", \"DenseNet121\", \"ResNet50\"]:\n",
        "        image_path = os.path.join(results_folder, f\"confusion_matrix_{model_name}.png\")\n",
        "        if os.path.exists(image_path):\n",
        "            pdf.image(image_path, w=100)  # reducir tamaño\n",
        "            pdf.ln(5)\n",
        "\n",
        "    pdf.output(output_path)\n",
        "    return output_path\n"
      ]
    },
    {
      "cell_type": "code",
      "execution_count": null,
      "metadata": {
        "colab": {
          "base_uri": "https://localhost:8080/"
        },
        "id": "JvznJ897ugac",
        "outputId": "b2e88359-f6d5-47fe-b478-6e728e1b376c"
      },
      "outputs": [
        {
          "output_type": "stream",
          "name": "stdout",
          "text": [
            "Writing app.py\n"
          ]
        }
      ],
      "source": [
        "%%writefile app.py\n",
        "import streamlit as st\n",
        "import numpy as np\n",
        "import pandas as pd\n",
        "import cv2\n",
        "import os\n",
        "from tensorflow.keras.models import load_model\n",
        "from tensorflow.keras.preprocessing.image import ImageDataGenerator\n",
        "from PIL import Image\n",
        "from report_utils import generate_pdf_from_files\n",
        "\n",
        "# Configuración\n",
        "st.set_page_config(page_title=\"Clasificación CRCCD\", layout=\"centered\")\n",
        "st.title(\"🍑 Sistema de Diagnostico de Tipo de Cancer Colorrectal\")\n",
        "\n",
        "# Rutas de modelos entrenados\n",
        "modelos = {\n",
        "    \"CNN Simple\": \"/content/drive/MyDrive/Datos/models/CNN_Simple.h5\",\n",
        "    \"ResNet50\": \"/content/drive/MyDrive/Datos/models/ResNet50.h5\",\n",
        "    \"DenseNet121\": \"/content/drive/MyDrive/Datos/models/DenseNet121.h5\"\n",
        "}\n",
        "\n",
        "@st.cache_resource\n",
        "def cargar_modelo(path):\n",
        "    return load_model(path)\n",
        "\n",
        "@st.cache_resource\n",
        "def obtener_clases():\n",
        "    gen = ImageDataGenerator(rescale=1./255).flow_from_directory(\n",
        "        '/content/drive/MyDrive/Datos/CRCCD_V1/Train',\n",
        "        target_size=(224, 224),\n",
        "        batch_size=32,\n",
        "        class_mode='sparse'\n",
        "    )\n",
        "    return list(gen.class_indices.keys())\n",
        "\n",
        "def preprocesar_imagen(image: Image.Image):\n",
        "    img = np.array(image.convert(\"RGB\"))\n",
        "    img = cv2.resize(img, (224, 224)) / 255.0\n",
        "    img = np.expand_dims(img, axis=0)\n",
        "    return img\n",
        "\n",
        "# Rutas\n",
        "ruta_resultados = \"/content/drive/MyDrive/Datos/evaluacion_modelos/\"\n",
        "resumen_metricas_path = os.path.join(ruta_resultados, \"resumen_metricas.csv\")\n",
        "mcnemar_path = os.path.join(ruta_resultados, \"mcnemar_resultados.csv\")\n",
        "\n",
        "# Sidebar de navegación\n",
        "modo = st.sidebar.radio(\"Seleccione la funcionalidad:\", [\"Predicción de Imagen\", \"Descargar Reporte PDF\"])\n",
        "\n",
        "# --- Modo 1: Predicción ---\n",
        "if modo == \"Predicción de Imagen\":\n",
        "    modelo_elegido = st.selectbox(\"Selecciona el modelo:\", list(modelos.keys()))\n",
        "    modelo_path = modelos[modelo_elegido]\n",
        "\n",
        "    imagen_subida = st.file_uploader(\"📷 Sube una imagen\", type=[\"jpg\", \"jpeg\", \"png\"])\n",
        "    if imagen_subida:\n",
        "        st.image(imagen_subida, caption=\"🖼️ Imagen seleccionada\", use_container_width=True)\n",
        "\n",
        "        model = cargar_modelo(modelo_path)\n",
        "        class_names = obtener_clases()\n",
        "        entrada = preprocesar_imagen(Image.open(imagen_subida))\n",
        "        pred = model.predict(entrada)[0]\n",
        "        prob = np.max(pred)\n",
        "        clase = class_names[np.argmax(pred)]\n",
        "\n",
        "        st.subheader(\"🔍 Resultado\")\n",
        "        if prob < 0.4:\n",
        "            st.warning(f\"❓ Prediccion ineficiente (prob: {prob:.2f})\")\n",
        "        else:\n",
        "            st.success(f\"✅ {modelo_elegido} predice: **{clase}** (probabilidad: {prob:.2f})\")\n",
        "\n",
        "# --- Modo 2: PDF ---\n",
        "elif modo == \"Descargar Reporte PDF\":\n",
        "    st.info(\"Se generará un reporte PDF con las métricas evaluadas previamente y la prueba de McNemar.\")\n",
        "\n",
        "    # Mostrar tabla de métricas\n",
        "    if os.path.exists(resumen_metricas_path):\n",
        "        st.subheader(\"📊 Resumen de Métricas por Modelo\")\n",
        "        df_metricas = pd.read_csv(resumen_metricas_path).round(4)\n",
        "        st.dataframe(df_metricas, use_container_width=True)\n",
        "    else:\n",
        "        st.error(\"No se encontró el archivo resumen_metricas.csv\")\n",
        "\n",
        "    # Mostrar tabla y análisis de McNemar\n",
        "    if os.path.exists(mcnemar_path):\n",
        "        st.subheader(\"🧪 Resultados de la Prueba de McNemar\")\n",
        "\n",
        "        df_mcnemar = pd.read_csv(mcnemar_path)\n",
        "        df_mcnemar[\"p_value\"] = df_mcnemar[\"p_value\"].apply(lambda x: f\"{x:.2e}\")\n",
        "        df_mcnemar[\"statistic\"] = df_mcnemar[\"statistic\"].apply(lambda x: f\"{x:.4f}\")\n",
        "\n",
        "        st.dataframe(df_mcnemar, use_container_width=True)\n",
        "\n",
        "        st.markdown(\"### 📌 Interpretación Automática\")\n",
        "        for _, row in df_mcnemar.iterrows():\n",
        "            interpretacion = (\n",
        "                f\"➡️ Comparación **{row['modelo_1']} vs {row['modelo_2']}**: \"\n",
        "                f\"Estadístico = {row['statistic']}, p-valor = {row['p_value']} → \"\n",
        "            )\n",
        "            if float(row['p_value']) < 0.05:\n",
        "                interpretacion += \"💡 Hay diferencia significativa entre los modelos.\"\n",
        "            else:\n",
        "                interpretacion += \"⚖️ No hay diferencia significativa.\"\n",
        "            st.markdown(interpretacion)\n",
        "    else:\n",
        "        st.warning(\"No se encontró el archivo 'mcnemar_resultados.csv'.\")\n",
        "\n",
        "    # Descargar PDF\n",
        "    if st.button(\"📥 Generar y Descargar Reporte PDF\"):\n",
        "        with st.spinner(\"Generando PDF...\"):\n",
        "            ruta_pdf = generate_pdf_from_files(ruta_resultados)\n",
        "        with open(ruta_pdf, \"rb\") as f:\n",
        "            st.download_button(\"📄 Descargar Reporte\", data=f, file_name=\"reporte_modelos.pdf\", mime=\"application/pdf\")\n"
      ]
    },
    {
      "cell_type": "code",
      "execution_count": null,
      "metadata": {
        "id": "8_QDL4Yx6W-1"
      },
      "outputs": [],
      "source": [
        "!streamlit run app.py &>/content/logs.txt &"
      ]
    },
    {
      "cell_type": "code",
      "execution_count": null,
      "metadata": {
        "colab": {
          "base_uri": "https://localhost:8080/"
        },
        "id": "brCEZIcW6hmm",
        "outputId": "bd78234a-7357-405a-c484-0aa82d6f6b93"
      },
      "outputs": [
        {
          "output_type": "stream",
          "name": "stdout",
          "text": [
            "🌐 Tu app está disponible en: NgrokTunnel: \"https://2c2a1c83ea3b.ngrok-free.app\" -> \"http://localhost:8501\"\n"
          ]
        }
      ],
      "source": [
        "from pyngrok import ngrok\n",
        "public_url = ngrok.connect(8501)\n",
        "print(f\"🌐 Tu app está disponible en: {public_url}\")"
      ]
    }
  ],
  "metadata": {
    "colab": {
      "provenance": [],
      "gpuType": "T4",
      "authorship_tag": "ABX9TyPzv0Bj4b49db/odKHhzdCM",
      "include_colab_link": true
    },
    "kernelspec": {
      "display_name": "Python 3",
      "name": "python3"
    },
    "language_info": {
      "name": "python"
    },
    "accelerator": "GPU"
  },
  "nbformat": 4,
  "nbformat_minor": 0
}